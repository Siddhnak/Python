{
 "cells": [
  {
   "cell_type": "code",
   "execution_count": null,
   "metadata": {},
   "outputs": [],
   "source": []
  },
  {
   "cell_type": "markdown",
   "metadata": {},
   "source": [
    "<h2>Hi there let's complete this really quick</h2>"
   ]
  },
  {
   "cell_type": "code",
   "execution_count": null,
   "metadata": {},
   "outputs": [],
   "source": [
    "tim = \"hello\"\n",
    "myVariable = True\n",
    "\n",
    "myVariable = 3  # myVariable now is equal to 3\n",
    "joe = myVariable  # joe is now equal to 3 because myVariable has the value 3 \n",
    "\n",
    "'''A valid variable name is anything\n",
    " that does not start with a number \n",
    " and contains only letters and underscores'''\n",
    "\n",
    "#  the variable tim is NOT the same variable as Tim\n",
    "\n",
    "'''\n",
    "int: 1, 3, 5, 9, -3, 0\n",
    "float: 1.0, 0.9, -0.7, 5.6, 8.0\n",
    "str: \"hello\", \"0.2\", '-98', 'True'\n",
    "bool: True, False'''"
   ]
  },
  {
   "cell_type": "markdown",
   "metadata": {},
   "source": [
    "<h3>Basic Operators and input</h3>\n"
   ]
  },
  {
   "cell_type": "code",
   "execution_count": 5,
   "metadata": {},
   "outputs": [
    {
     "name": "stdout",
     "output_type": "stream",
     "text": [
      "hello there sir\n",
      "Tell ur naam:\n",
      "Wow!!! How are you sir: Pintu\n"
     ]
    }
   ],
   "source": [
    "# Simple Printing \n",
    "\n",
    "# print(\"Hello there it's Siddhant here..who's this\")\n",
    "\n",
    "# name = input()\n",
    "\n",
    "naam = input(print(\"hello there sir\\nTell ur naam:\"))\n",
    "\n",
    "print(\"Wow!!! How are you sir:\",naam) #Forget about the rest of the Syntax of \n",
    "# java peeleeej \n",
    "\n",
    "'''The print function even includes a \n",
    "space before and after each item so they don't appear squeezed together.'''\n"
   ]
  },
  {
   "cell_type": "code",
   "execution_count": null,
   "metadata": {},
   "outputs": [],
   "source": [
    "'''ORDER of OPERATIONs\n",
    "\n",
    "\n",
    "Brackets\n",
    "Exponents\n",
    "Multiplication\n",
    "Division\n",
    "Addition\n",
    "Subtraction\n",
    "\n",
    "Python allows for the use of the addition (+) operator and multiplication \n",
    "(*) operator on strings. Adding two strings is known as concatenation.\n",
    "'''\n",
    "newStr = \"hello\" + \"tim\"  # newStr is \"hellotim\"\n",
    "newStr2 = \"python\" * 3    # newStr2 is \"pythonpythonpython\"\n"
   ]
  },
  {
   "cell_type": "code",
   "execution_count": 6,
   "metadata": {},
   "outputs": [
    {
     "name": "stdout",
     "output_type": "stream",
     "text": [
      "111\n"
     ]
    }
   ],
   "source": [
    "num1 = input(\"Pick a Number: \")\n",
    "num2 = input(\"Pick Another Number: \")\n",
    "\n",
    "SUM = int(num1) + int(num2)\n",
    "\n",
    "print(SUM)"
   ]
  },
  {
   "cell_type": "markdown",
   "metadata": {},
   "source": [
    "<h3>IF/ELIF/ELSE\n",
    "</h3>"
   ]
  },
  {
   "cell_type": "code",
   "execution_count": 7,
   "metadata": {},
   "outputs": [
    {
     "name": "stdout",
     "output_type": "stream",
     "text": [
      "true\n"
     ]
    }
   ],
   "source": [
    "if 4 < 5:\n",
    "    print(\"true\")"
   ]
  },
  {
   "cell_type": "code",
   "execution_count": 10,
   "metadata": {},
   "outputs": [
    {
     "name": "stdout",
     "output_type": "stream",
     "text": [
      "uh huh\n"
     ]
    }
   ],
   "source": [
    "# THe importance of Indentation\n",
    "\n",
    "\n",
    "# number = input(int(\"Please typr ur no:\"))#the input gotta be inside\n",
    "\n",
    "# def Pass(*Result)\n",
    "number = int(input(\"Hey you dum dum.. tell the no: greater than 6\"))\n",
    "if number<6:\n",
    "    print(\"uh huh\")\n",
    "else:\n",
    "    print(\"try again..\")"
   ]
  },
  {
   "cell_type": "code",
   "execution_count": 11,
   "metadata": {},
   "outputs": [
    {
     "name": "stdout",
     "output_type": "stream",
     "text": [
      "the number is greater than or 10 and less than 15\n",
      "The number is 10\n"
     ]
    }
   ],
   "source": [
    "# Just copied\n",
    "\n",
    "number = int(input(\"Please type a number: \"))\n",
    "\n",
    "if number < 5:\n",
    "    print(\"the number is less than 5\")\n",
    "elif number < 10:\n",
    "    print(\"the number is greater than or 5 and less than 10\")\n",
    "elif number < 15:\n",
    "    print(\"the number is greater than or 10 and less than 15\")\n",
    "else:\n",
    "    print(\"the number is NOT less than 15\")\n",
    "\n",
    "\n",
    "if number == 10:\n",
    "    print(\"The number is 10\")\n",
    "elif number == 15:\n",
    "    print(\"The number is 15\")\n",
    "\n",
    "# Notice it is not necessary to include an else"
   ]
  },
  {
   "cell_type": "markdown",
   "metadata": {},
   "source": [
    "### Chained Conditionals & Nested Statements"
   ]
  },
  {
   "cell_type": "code",
   "execution_count": 13,
   "metadata": {},
   "outputs": [
    {
     "name": "stdout",
     "output_type": "stream",
     "text": [
      "Please enter what do you do for a living:\n",
      "Food you eat most?:\n",
      "i knew it that you are a bengali since you likeFishING\n"
     ]
    }
   ],
   "source": [
    "occupation= input(print(\"Please enter what do you do for a living:\"))\n",
    "\n",
    "dailyfood=input(print(\"Food you eat most?:\"))\n",
    "\n",
    "if occupation.lower()==\"fishing\":\n",
    "    print((f\"i knew it that you are a bengali since you like,{occupation}\"))\n",
    "else:\n",
    "    print((f\"i knew it that you are a Maharastian\"))\n",
    "# print(f(\"i knew it that you are a bengali\"))"
   ]
  },
  {
   "cell_type": "code",
   "execution_count": null,
   "metadata": {},
   "outputs": [],
   "source": []
  },
  {
   "cell_type": "code",
   "execution_count": 1,
   "metadata": {},
   "outputs": [
    {
     "name": "stdout",
     "output_type": "stream",
     "text": [
      "Hello sir..enter your lenght\n"
     ]
    }
   ],
   "source": [
    "length= input(print(\"Hello sir..enter your lenght\"))\n",
    "breadth=input(print(\"Hello sir..enter your breadth\"))\n",
    "\n",
    "area= float(length)*float(breadth)\n",
    "\n",
    "Area=int(area)"
   ]
  },
  {
   "cell_type": "markdown",
   "metadata": {},
   "source": [
    "### While Loops\n"
   ]
  },
  {
   "cell_type": "code",
   "execution_count": 22,
   "metadata": {},
   "outputs": [
    {
     "name": "stdout",
     "output_type": "stream",
     "text": [
      "23\n",
      "Study hard my friend..\n",
      "32\n",
      "Study hard my friend..\n",
      "33\n",
      "Study hard my friend..\n",
      "34\n",
      "Study hard my friend..\n",
      "35\n",
      "You have passed\n"
     ]
    }
   ],
   "source": [
    "\n",
    "result = True\n",
    "\n",
    "while result:\n",
    "    marks = int(input(\"What is the percentage you recieved?\"))\n",
    "    print(marks)\n",
    "    if marks<35:\n",
    "        print(\"Study hard my friend..\")\n",
    "    else: \n",
    "        print(\"You have passed\")\n",
    "        break\n",
    "        result=False\n",
    "        "
   ]
  },
  {
   "cell_type": "code",
   "execution_count": 12,
   "metadata": {},
   "outputs": [
    {
     "name": "stdout",
     "output_type": "stream",
     "text": [
      "try a lil bit below\n",
      "try a lil bit below\n",
      "try a lil bit below\n",
      "try a lil bit below\n",
      "try a lil bit below\n",
      "try a lil bit below\n",
      "try a lil bit below\n",
      "try a lil bit below\n",
      "try a lil bit below\n",
      "try a lil bit below\n",
      "try a lil bit below\n",
      "try a lil bit below\n",
      "try a lil bit below\n",
      "try a lil bit below\n",
      "There you go!! that's correct\n"
     ]
    }
   ],
   "source": [
    "#Guessing game\n",
    "\n",
    "import random\n",
    "\n",
    "def guess(x):\n",
    "    rano=random.randint(1,x)\n",
    "\n",
    "    guess = 0\n",
    "    while guess != rano:\n",
    "        guess=int(input(f\"Enter your guess here between 1 and {x}\"))\n",
    "        if guess<rano:\n",
    "            print(\"Try a lil bit up\")\n",
    "        elif guess>rano:\n",
    "            print(\"try a lil bit below\")\n",
    "\n",
    "    print(\"There you go!! that's correct\")\n",
    "guess(12)\n"
   ]
  },
  {
   "cell_type": "code",
   "execution_count": null,
   "metadata": {},
   "outputs": [],
   "source": []
  },
  {
   "cell_type": "code",
   "execution_count": null,
   "metadata": {},
   "outputs": [],
   "source": []
  },
  {
   "cell_type": "code",
   "execution_count": null,
   "metadata": {},
   "outputs": [],
   "source": []
  },
  {
   "cell_type": "code",
   "execution_count": null,
   "metadata": {},
   "outputs": [],
   "source": []
  },
  {
   "cell_type": "code",
   "execution_count": null,
   "metadata": {},
   "outputs": [],
   "source": []
  }
 ],
 "metadata": {
  "kernelspec": {
   "display_name": "Python 3",
   "language": "python",
   "name": "python3"
  },
  "language_info": {
   "codemirror_mode": {
    "name": "ipython",
    "version": 3
   },
   "file_extension": ".py",
   "mimetype": "text/x-python",
   "name": "python",
   "nbconvert_exporter": "python",
   "pygments_lexer": "ipython3",
   "version": "3.11.4"
  },
  "orig_nbformat": 4
 },
 "nbformat": 4,
 "nbformat_minor": 2
}
